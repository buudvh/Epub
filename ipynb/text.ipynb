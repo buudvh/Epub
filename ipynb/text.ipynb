{
 "cells": [
  {
   "cell_type": "markdown",
   "metadata": {},
   "source": [
    "Tách VietPharse nhiều nghĩa"
   ]
  },
  {
   "cell_type": "code",
   "execution_count": 1,
   "metadata": {},
   "outputs": [
    {
     "name": "stdout",
     "output_type": "stream",
     "text": [
      "Đã phân tách thành công!\n"
     ]
    }
   ],
   "source": [
    "# Đọc nội dung từ file txt\n",
    "with open('VietPhrase_20250110_111217.txt', 'r', encoding='utf-8') as file:\n",
    "    lines = file.readlines()\n",
    "\n",
    "# Danh sách chứa các dòng có dấu ¦ và không có dấu ¦\n",
    "lines_with_pipe = []\n",
    "lines_without_pipe = []\n",
    "\n",
    "# Phân loại các dòng\n",
    "for line in lines:\n",
    "    if '¦' in line:\n",
    "        lines_with_pipe.append(line)\n",
    "    else:\n",
    "        lines_without_pipe.append(line)\n",
    "\n",
    "# Ghi vào file chứa dòng có dấu ¦\n",
    "with open('with_pipe.txt', 'w', encoding='utf-8') as file:\n",
    "    file.writelines(lines_with_pipe)\n",
    "\n",
    "# Ghi vào file chứa dòng không có dấu ¦\n",
    "with open('without_pipe.txt', 'w', encoding='utf-8') as file:\n",
    "    file.writelines(lines_without_pipe)\n",
    "\n",
    "print(\"Đã phân tách thành công!\")\n"
   ]
  },
  {
   "cell_type": "markdown",
   "metadata": {},
   "source": [
    "Tách các dòng có vế trái giống nhau"
   ]
  },
  {
   "cell_type": "code",
   "execution_count": 4,
   "metadata": {},
   "outputs": [
    {
     "name": "stdout",
     "output_type": "stream",
     "text": [
      "Đã phân tách các dòng theo yêu cầu!\n"
     ]
    }
   ],
   "source": [
    "from collections import defaultdict\n",
    "\n",
    "input_path = './final/name.txt'\n",
    "output_path_group = './final/name_group.txt'\n",
    "output_path_other = './final/name_other.txt'\n",
    "\n",
    "# Đọc nội dung từ file txt\n",
    "with open(input_path, 'r', encoding='utf-8') as file:\n",
    "    lines = file.readlines()\n",
    "\n",
    "# Sử dụng defaultdict để nhóm các dòng theo vế trái dấu \"=\"\n",
    "grouped_lines = defaultdict(list)\n",
    "other_lines = []\n",
    "wrong_lines = []\n",
    "\n",
    "# Phân loại các dòng\n",
    "for line in lines:\n",
    "    parts = line.strip().split('=')\n",
    "    if len(parts) == 2:\n",
    "        left, right = parts\n",
    "        grouped_lines[left].append(line)\n",
    "    else:\n",
    "        wrong_lines.append(line)\n",
    "\n",
    "# Ghi các dòng có vế trái giống nhau vào file\n",
    "with open(output_path_group, 'w', encoding='utf-8') as file:\n",
    "    for left, group in grouped_lines.items():\n",
    "        if len(group) > 1:  # Chỉ ghi các nhóm có vế trái giống nhau\n",
    "            file.writelines(group)\n",
    "        else:\n",
    "            other_lines = other_lines + group\n",
    "\n",
    "# Ghi các dòng không có vế trái giống nhau vào file\n",
    "with open(output_path_other, 'w', encoding='utf-8') as file:\n",
    "    file.writelines(other_lines)\n",
    "\n",
    "print(\"Đã phân tách các dòng theo yêu cầu!\")\n"
   ]
  },
  {
   "cell_type": "markdown",
   "metadata": {},
   "source": [
    "Loại bỏ dòng giống nhau"
   ]
  },
  {
   "cell_type": "code",
   "execution_count": 3,
   "metadata": {},
   "outputs": [
    {
     "name": "stdout",
     "output_type": "stream",
     "text": [
      "File đã được xử lý và lưu tại: ./final/without_pipe_group_v2.txt\n"
     ]
    }
   ],
   "source": [
    "input_file = \"./final/without_pipe_group.txt\"  # Đổi thành tên file của bạn\n",
    "output_file = \"./final/without_pipe_group_v2.txt\"\n",
    "\n",
    "# Đọc file và loại bỏ các dòng trùng lặp liên tiếp\n",
    "with open(input_file, \"r\", encoding=\"utf-8\") as f:\n",
    "    lines = f.readlines()\n",
    "\n",
    "unique_lines = []\n",
    "for i in range(len(lines)):\n",
    "    if i == 0 or lines[i] != lines[i - 1]:\n",
    "        unique_lines.append(lines[i])\n",
    "\n",
    "# Ghi các dòng không trùng lặp vào file mới\n",
    "with open(output_file, \"w\", encoding=\"utf-8\") as f:\n",
    "    f.writelines(unique_lines)\n",
    "\n",
    "print(f\"File đã được xử lý và lưu tại: {output_file}\")\n"
   ]
  }
 ],
 "metadata": {
  "kernelspec": {
   "display_name": "Python 3",
   "language": "python",
   "name": "python3"
  },
  "language_info": {
   "codemirror_mode": {
    "name": "ipython",
    "version": 3
   },
   "file_extension": ".py",
   "mimetype": "text/x-python",
   "name": "python",
   "nbconvert_exporter": "python",
   "pygments_lexer": "ipython3",
   "version": "3.8.8"
  }
 },
 "nbformat": 4,
 "nbformat_minor": 2
}
